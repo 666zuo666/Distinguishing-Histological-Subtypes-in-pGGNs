{
 "cells": [
  {
   "cell_type": "markdown",
   "metadata": {},
   "source": [
    "#数据读取"
   ]
  },
  {
   "cell_type": "code",
   "execution_count": 14,
   "metadata": {},
   "outputs": [],
   "source": [
    "#加载及安装包\n",
    "import numpy as np #NumPy 通常与 SciPy（Scientific Python）和 Matplotlib\n",
    "#（绘图库）一起使用， 这种组合广泛用于替代 MatLab，是一个强大的科学计算环境，\n",
    "#有助于我们通过 Python 学习数据科学或者机器学习\n",
    "import pandas as pd #Pandas 可以对各种数据进行运算操作，比如归并、再成形、选择，还有数据清洗和数据加工特征\n",
    "#没有下面部分代码在加载statsmodels.api时会报错\n",
    "import  scipy.signal.signaltools\n",
    "def _centered(arr, newsize):\n",
    "    # Return the center newsize portion of the array.\n",
    "    newsize = np.asarray(newsize)\n",
    "    currsize = np.array(arr.shape)\n",
    "    startind = (currsize - newsize) // 2\n",
    "    endind = startind + newsize\n",
    "    myslice = [slice(startind[k], endind[k]) for k in range(len(endind))]\n",
    "    return arr[tuple(myslice)]\n",
    "scipy.signal.signaltools._centered = _centered   # pip install scipy==1.2 --upgrade\n",
    "import statsmodels.api as sm\n",
    "import seaborn as sbn # Seaborn 可实现对统计数据的可视化展示，基于 Python 语言开发，使用 matplotlib 库\n",
    "#sklearn拥有可以用于监督和无监督学习的方法，一般来说监督学习使用的更多。\n",
    "#sklearn中的大部分函数可以归为估计器(Estimator)和转化器(Transformer)两类。\n",
    "#估计器(Estimator)其实就是模型，它用于对数据的预测或回归。基本上估计器都会\n",
    "#有以下几个方法：\n",
    "# fit(x,y) :传入数据以及标签即可训练模型，训练的时间和参数设置，数据集大小以及数据本身的特点有关\n",
    "# score(x,y)用于对模型的正确率进行评分(范围0-1)。但由于对在不同的问题下，评判模型优劣的的标准不限于简单的正确率，可能还包括召回率或者是查准率等其他的指标，特别是对于类别失衡的样本，准确率并不能很好的评估模型的优劣，因此在对模型进行评估时，不要轻易的被score的得分蒙蔽。\n",
    "# predict(x)用于对数据的预测，它接受输入，并输出预测标签，输出的格式为numpy数组。我们通常使用这个方法返回测试的结果，再将这个结果用于评估模型。\n",
    "from sklearn.model_selection import train_test_split, GridSearchCV, cross_val_score\n",
    "from sklearn.metrics import confusion_matrix, accuracy_score, classification_report\n",
    "from sklearn.metrics import roc_auc_score, roc_curve, auc\n",
    "import matplotlib.pyplot as plt\n",
    "from sklearn.neighbors import KNeighborsClassifier\n",
    "from sklearn.linear_model import LogisticRegression\n",
    "from sklearn.svm import SVC\n",
    "from sklearn.naive_bayes import GaussianNB\n",
    "from sklearn import tree\n",
    "from sklearn.neural_network import MLPClassifier\n",
    "from sklearn.tree import DecisionTreeClassifier\n",
    "from sklearn.ensemble import RandomForestClassifier, GradientBoostingClassifier\n",
    "from sklearn.discriminant_analysis import LinearDiscriminantAnalysis\n",
    "#安装并加载xgboost包\n",
    "from xgboost import XGBClassifier\n",
    "#安装并加载lightgbm包，在LightGBM提出之前，最有名的GBDT工具就是gbdtoost了，\n",
    "#它是基于预排序方法的决策树算法。lightgbm是对gbdtoost的优化\n",
    "from lightgbm import LGBMClassifier\n",
    "#安装并加载catboost包。catboost也基于决策树。但是嵌入了自动将类别型特征处\n",
    "#理为数值型特征的创新算法。\n",
    "#Catboost采用排序提升的方法对抗训练集中的噪声点，从而避免梯度估计的偏\n",
    "from catboost import CatBoostClassifier\n",
    "from warnings import filterwarnings\n",
    "filterwarnings(\"ignore\")\n",
    "import matplotlib.pyplot as plt\n",
    "from sklearn.metrics import roc_curve, auc"
   ]
  },
  {
   "cell_type": "code",
   "execution_count": 15,
   "metadata": {},
   "outputs": [
    {
     "name": "stdout",
     "output_type": "stream",
     "text": [
      "['Location', 'Margin', 'Shape', 'Lobulation', 'Spiculation', 'Vascular convergence sign', 'Vacuole sign', 'Pleural indentation', 'Sex', 'Age', 'Size', 'Mean CT value', 'ITH score', 'Outcome']\n"
     ]
    }
   ],
   "source": [
    "import pandas as pd\n",
    "from sklearn.model_selection import train_test_split\n",
    "# 加载数据\n",
    "database = pd.read_csv(\"./纯磨玻璃结节LPA_整理.csv\")\n",
    "# 打印列名以检查\n",
    "print(database.columns.tolist())\n",
    "# 定义您想要选择的特征\n",
    "features_to_select = [\n",
    "    \"ITH score\", \n",
    "    \"Size\", \n",
    "    \"Mean CT value\", \n",
    "    \"Pleural indentation\", \n",
    "    \"Age\", \n",
    "    \"Location\", \n",
    "    \"Shape\"\n",
    "]\n",
    "database = pd.read_csv(\"./纯磨玻璃结节LPA_整理.csv\")#同一级文件夹 './file.csv'   ##子目录文件夹'./subfolder/file.csv'  ##上级文件夹'../otherfolder/file.csv'  \n",
    "rand_seed =10  #  数据划分的随机种子\n",
    "ratio=0.3\n",
    "X = database[features_to_select]\n",
    "#数据集拆分\n",
    "X_train, X_test, y_train, y_test = train_test_split(X, y, test_size= ratio, random_state= rand_seed)\n"
   ]
  },
  {
   "cell_type": "code",
   "execution_count": 16,
   "metadata": {},
   "outputs": [
    {
     "name": "stdout",
     "output_type": "stream",
     "text": [
      "Fitting 5 folds for each of 81 candidates, totalling 405 fits\n"
     ]
    }
   ],
   "source": [
    "import xgboost as xgb\n",
    "from sklearn.model_selection import GridSearchCV\n",
    "\n",
    "# 定义超参数网格\n",
    "params_xgb = {\n",
    "    'n_estimators': [50, 100, 200],  # 树的数量\n",
    "    'learning_rate': [0.01, 0.1, 0.2],  # 学习率\n",
    "    'max_depth': [3, 5, 7],  # 树的最大深度\n",
    "    'subsample': [0.6, 0.8, 1.0]  # 训练每棵树时使用的样本比例\n",
    "}\n",
    "\n",
    "# 初始化XGBoost分类模型\n",
    "model_xgb = xgb.XGBClassifier(**params_xgb)\n",
    "\n",
    "# 使用 GridSearchCV 进行 5 折交叉验证和超参数搜索\n",
    "grid_search_xgb = GridSearchCV(\n",
    "    model_xgb,\n",
    "    params_xgb,\n",
    "    cv=5,\n",
    "    scoring=['accuracy', 'roc_auc'],\n",
    "    refit='accuracy',\n",
    "    n_jobs=-1,\n",
    "    verbose=1\n",
    ")\n",
    "\n",
    "# 训练模型\n",
    "grid_search_xgb.fit(X_train, y_train)\n",
    "\n",
    "# 使用最优参数训练模型\n",
    "best_model = grid_search_xgb.best_estimator_\n"
   ]
  },
  {
   "cell_type": "code",
   "execution_count": 17,
   "metadata": {},
   "outputs": [
    {
     "data": {
      "text/plain": [
       "['XGBoost.pkl']"
      ]
     },
     "execution_count": 17,
     "metadata": {},
     "output_type": "execute_result"
    }
   ],
   "source": [
    "import joblib# 保存模型\n",
    "joblib.dump(best_model , 'XGBoost.pkl')"
   ]
  }
 ],
 "metadata": {
  "kernelspec": {
   "display_name": "Python 3",
   "language": "python",
   "name": "python3"
  },
  "language_info": {
   "codemirror_mode": {
    "name": "ipython",
    "version": 3
   },
   "file_extension": ".py",
   "mimetype": "text/x-python",
   "name": "python",
   "nbconvert_exporter": "python",
   "pygments_lexer": "ipython3",
   "version": "3.11.0"
  }
 },
 "nbformat": 4,
 "nbformat_minor": 4
}
